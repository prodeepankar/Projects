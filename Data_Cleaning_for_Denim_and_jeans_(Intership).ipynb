{
  "nbformat": 4,
  "nbformat_minor": 0,
  "metadata": {
    "colab": {
      "provenance": [],
      "mount_file_id": "1qLQQCYjrUdNkHBhbN0jN5g3Z8VHQyeUw",
      "authorship_tag": "ABX9TyP1fS4RMwW53TWkU/IkxaLa",
      "include_colab_link": true
    },
    "kernelspec": {
      "name": "python3",
      "display_name": "Python 3"
    },
    "language_info": {
      "name": "python"
    }
  },
  "cells": [
    {
      "cell_type": "markdown",
      "metadata": {
        "id": "view-in-github",
        "colab_type": "text"
      },
      "source": [
        "<a href=\"https://colab.research.google.com/github/prodeepankar/Projects/blob/main/Data_Cleaning_for_Denim_and_jeans_(Intership).ipynb\" target=\"_parent\"><img src=\"https://colab.research.google.com/assets/colab-badge.svg\" alt=\"Open In Colab\"/></a>"
      ]
    },
    {
      "cell_type": "code",
      "execution_count": null,
      "metadata": {
        "id": "DgAIgfplFwDX",
        "colab": {
          "base_uri": "https://localhost:8080/"
        },
        "outputId": "3414739b-e6ba-433a-83e3-72ebf3688586"
      },
      "outputs": [
        {
          "output_type": "stream",
          "name": "stdout",
          "text": [
            "Drive already mounted at /content/drive; to attempt to forcibly remount, call drive.mount(\"/content/drive\", force_remount=True).\n"
          ]
        }
      ],
      "source": [
        "from google.colab import drive\n",
        "drive.mount('/content/drive')\n",
        "import io\n",
        "import pandas as pd\n",
        "import regex as re\n",
        "import numpy as np\n",
        "file_path = input(\"Please copy your path here\")\n",
        "file_name = input('Please name your file')\n",
        "df = pd.read_excel(file_path)"
      ]
    },
    {
      "cell_type": "code",
      "source": [
        "df"
      ],
      "metadata": {
        "colab": {
          "base_uri": "https://localhost:8080/",
          "height": 1000
        },
        "id": "Tp7vuF-oD5Ga",
        "outputId": "d04688fa-f852-4ecf-f9ca-9b14bd44c8c1"
      },
      "execution_count": null,
      "outputs": [
        {
          "output_type": "execute_result",
          "data": {
            "text/plain": [
              "     Unnamed: 0  Unnamed: 1       Date     HS Code  \\\n",
              "0           NaN         NaN 2022-01-01  52094200.0   \n",
              "1           NaN         NaN 2022-01-01  52094200.0   \n",
              "2           NaN         NaN 2022-01-01  52094200.0   \n",
              "3           NaN         NaN 2022-01-01  52094200.0   \n",
              "4           NaN         NaN 2022-01-01  52094200.0   \n",
              "..          ...         ...        ...         ...   \n",
              "870         NaN         NaN 2022-02-28  52094200.0   \n",
              "871         NaN         NaN 2022-02-28  52094200.0   \n",
              "872         NaN         NaN 2022-02-28  52094200.0   \n",
              "873         NaN         NaN 2022-02-28  52094200.0   \n",
              "874         NaN         NaN 2022-02-28  52114200.0   \n",
              "\n",
              "                                HS Product Description  \\\n",
              "0    Woven fabrics of cotton, containing 85 % or mo...   \n",
              "1    Woven fabrics of cotton, containing 85 % or mo...   \n",
              "2    Woven fabrics of cotton, containing 85 % or mo...   \n",
              "3    Woven fabrics of cotton, containing 85 % or mo...   \n",
              "4    Woven fabrics of cotton, containing 85 % or mo...   \n",
              "..                                                 ...   \n",
              "870  Woven fabrics of cotton, containing 85 % or mo...   \n",
              "871  Woven fabrics of cotton, containing 85 % or mo...   \n",
              "872  Woven fabrics of cotton, containing 85 % or mo...   \n",
              "873  Woven fabrics of cotton, containing 85 % or mo...   \n",
              "874  Woven fabrics of cotton, containing less than ...   \n",
              "\n",
              "                                   Product Description  \\\n",
              "0              1000 MTRS 8.5 OZ 100% CTN DENIM , BLUE.   \n",
              "1    2000 MTRS 8.5 OZ STR DENIM , GREY (INV.# STC-2...   \n",
              "2    FABRIC CODE: A4-7314-W-AS-25 83% COTTON 15% PO...   \n",
              "3    FABRIC CODE: A4-5740-W-OD-15 83% COTTON 15% PO...   \n",
              "4    FABRIC CODE: A4-050235-C-AS-41-B 88% COTTON 9%...   \n",
              "..                                                 ...   \n",
              "870  98%COTTON 2%ELASTANE DENIM FABRIC DYED. QUALIT...   \n",
              "871  DENIM FABRIC - (98.5% COTTON 1.5% LYCRA) (EXPO...   \n",
              "872  DENIM FABRIC-92% COTTON 6% EME 2% ELASTANE (EX...   \n",
              "873  80% COTTON , 20% RECYECL COTTON DENIM FABRIC D...   \n",
              "874  DENIM FABRIC - (82% COTTON 16% POLY 2% LYCRA) ...   \n",
              "\n",
              "                        Consignee Name  \\\n",
              "0                    M/S RIJA FASHIONS   \n",
              "1                    M/S RIJA FASHIONS   \n",
              "2                 CASIMIRES NABILA SAC   \n",
              "3                 CASIMIRES NABILA SAC   \n",
              "4                 CASIMIRES NABILA SAC   \n",
              "..                                 ...   \n",
              "870  CHANGZHOU ABILITY GARMENTS CO LTD   \n",
              "871        DIYENEM KUMAS GLOBAL SANAYI   \n",
              "872                    REALKOM TEKSTIL   \n",
              "873                        CMC TEKSTIL   \n",
              "874                  REALTEKS TEKSTILE   \n",
              "\n",
              "                                Shipper Name  Std. Quantity Std. Unit Unit  \\\n",
              "0                         SAMEED TRADING CO.       1000.000       Kgs   KG   \n",
              "1                         SAMEED TRADING CO.       2000.000       Kgs   KG   \n",
              "2    ARTISTIC FABRIC MILLS (PRIVATE) LIMITED       4410.500       Kgs   KG   \n",
              "3    ARTISTIC FABRIC MILLS (PRIVATE) LIMITED       4224.000       Kgs   KG   \n",
              "4    ARTISTIC FABRIC MILLS (PRIVATE) LIMITED       5965.500       Kgs   KG   \n",
              "..                                       ...            ...       ...  ...   \n",
              "870                      AZGARD NINE LIMITED      20701.476       Kgs   KG   \n",
              "871                  SAPPHIRE FIBRES LIMITED      25850.720       Kgs   KG   \n",
              "872                  DIAMOND FABRICS LIMITED      10922.000       Kgs   KG   \n",
              "873                      AZGARD NINE LIMITED      25566.294       Kgs   KG   \n",
              "874                  SAPPHIRE FIBRES LIMITED      13700.900       Kgs   KG   \n",
              "\n",
              "      Quantity  Unit Rate in Foreign Currency  Value Currency    Value FOB  \\\n",
              "0     1000.000                           1.72       PAK.RUPEE    304866.20   \n",
              "1     2000.000                           1.72       PAK.RUPEE    609734.17   \n",
              "2     4410.500                           6.19            INTI   4844326.76   \n",
              "3     4224.000                           6.23            INTI   4666465.96   \n",
              "4     5965.500                           4.56            INTI   4829973.72   \n",
              "..         ...                            ...             ...          ...   \n",
              "870  20701.476                           6.93     RENMINBI YU  25358822.00   \n",
              "871  25850.720                           6.02  EGYPTIAN POUND  27495570.29   \n",
              "872  10922.000                           7.05            LIRA  13615934.89   \n",
              "873  25566.294                           4.61            LIRA  20855837.11   \n",
              "874  13700.900                           7.12            LIRA  17235527.23   \n",
              "\n",
              "     Shipment Value Foreign Currency Port of Origin Country of Destination  \n",
              "0                            1720.00        Karachi               Pakistan  \n",
              "1                            3440.00        Karachi               Pakistan  \n",
              "2                           27299.67        Karachi                   Peru  \n",
              "3                           26297.36        Karachi                   Peru  \n",
              "4                           27218.79        Karachi                   Peru  \n",
              "..                               ...            ...                    ...  \n",
              "870                        143432.25        Karachi                  China  \n",
              "871                        155517.93        Karachi                  Egypt  \n",
              "872                         77013.21        Karachi                 Turkey  \n",
              "873                        117962.88        Karachi                 Turkey  \n",
              "874                         97486.01        Karachi                 Turkey  \n",
              "\n",
              "[875 rows x 18 columns]"
            ],
            "text/html": [
              "\n",
              "  <div id=\"df-edf81b5d-2bea-4ee3-aec0-817d5093044d\">\n",
              "    <div class=\"colab-df-container\">\n",
              "      <div>\n",
              "<style scoped>\n",
              "    .dataframe tbody tr th:only-of-type {\n",
              "        vertical-align: middle;\n",
              "    }\n",
              "\n",
              "    .dataframe tbody tr th {\n",
              "        vertical-align: top;\n",
              "    }\n",
              "\n",
              "    .dataframe thead th {\n",
              "        text-align: right;\n",
              "    }\n",
              "</style>\n",
              "<table border=\"1\" class=\"dataframe\">\n",
              "  <thead>\n",
              "    <tr style=\"text-align: right;\">\n",
              "      <th></th>\n",
              "      <th>Unnamed: 0</th>\n",
              "      <th>Unnamed: 1</th>\n",
              "      <th>Date</th>\n",
              "      <th>HS Code</th>\n",
              "      <th>HS Product Description</th>\n",
              "      <th>Product Description</th>\n",
              "      <th>Consignee Name</th>\n",
              "      <th>Shipper Name</th>\n",
              "      <th>Std. Quantity</th>\n",
              "      <th>Std. Unit</th>\n",
              "      <th>Unit</th>\n",
              "      <th>Quantity</th>\n",
              "      <th>Unit Rate in Foreign Currency</th>\n",
              "      <th>Value Currency</th>\n",
              "      <th>Value FOB</th>\n",
              "      <th>Shipment Value Foreign Currency</th>\n",
              "      <th>Port of Origin</th>\n",
              "      <th>Country of Destination</th>\n",
              "    </tr>\n",
              "  </thead>\n",
              "  <tbody>\n",
              "    <tr>\n",
              "      <th>0</th>\n",
              "      <td>NaN</td>\n",
              "      <td>NaN</td>\n",
              "      <td>2022-01-01</td>\n",
              "      <td>52094200.0</td>\n",
              "      <td>Woven fabrics of cotton, containing 85 % or mo...</td>\n",
              "      <td>1000 MTRS 8.5 OZ 100% CTN DENIM , BLUE.</td>\n",
              "      <td>M/S RIJA FASHIONS</td>\n",
              "      <td>SAMEED TRADING CO.</td>\n",
              "      <td>1000.000</td>\n",
              "      <td>Kgs</td>\n",
              "      <td>KG</td>\n",
              "      <td>1000.000</td>\n",
              "      <td>1.72</td>\n",
              "      <td>PAK.RUPEE</td>\n",
              "      <td>304866.20</td>\n",
              "      <td>1720.00</td>\n",
              "      <td>Karachi</td>\n",
              "      <td>Pakistan</td>\n",
              "    </tr>\n",
              "    <tr>\n",
              "      <th>1</th>\n",
              "      <td>NaN</td>\n",
              "      <td>NaN</td>\n",
              "      <td>2022-01-01</td>\n",
              "      <td>52094200.0</td>\n",
              "      <td>Woven fabrics of cotton, containing 85 % or mo...</td>\n",
              "      <td>2000 MTRS 8.5 OZ STR DENIM , GREY (INV.# STC-2...</td>\n",
              "      <td>M/S RIJA FASHIONS</td>\n",
              "      <td>SAMEED TRADING CO.</td>\n",
              "      <td>2000.000</td>\n",
              "      <td>Kgs</td>\n",
              "      <td>KG</td>\n",
              "      <td>2000.000</td>\n",
              "      <td>1.72</td>\n",
              "      <td>PAK.RUPEE</td>\n",
              "      <td>609734.17</td>\n",
              "      <td>3440.00</td>\n",
              "      <td>Karachi</td>\n",
              "      <td>Pakistan</td>\n",
              "    </tr>\n",
              "    <tr>\n",
              "      <th>2</th>\n",
              "      <td>NaN</td>\n",
              "      <td>NaN</td>\n",
              "      <td>2022-01-01</td>\n",
              "      <td>52094200.0</td>\n",
              "      <td>Woven fabrics of cotton, containing 85 % or mo...</td>\n",
              "      <td>FABRIC CODE: A4-7314-W-AS-25 83% COTTON 15% PO...</td>\n",
              "      <td>CASIMIRES NABILA SAC</td>\n",
              "      <td>ARTISTIC FABRIC MILLS (PRIVATE) LIMITED</td>\n",
              "      <td>4410.500</td>\n",
              "      <td>Kgs</td>\n",
              "      <td>KG</td>\n",
              "      <td>4410.500</td>\n",
              "      <td>6.19</td>\n",
              "      <td>INTI</td>\n",
              "      <td>4844326.76</td>\n",
              "      <td>27299.67</td>\n",
              "      <td>Karachi</td>\n",
              "      <td>Peru</td>\n",
              "    </tr>\n",
              "    <tr>\n",
              "      <th>3</th>\n",
              "      <td>NaN</td>\n",
              "      <td>NaN</td>\n",
              "      <td>2022-01-01</td>\n",
              "      <td>52094200.0</td>\n",
              "      <td>Woven fabrics of cotton, containing 85 % or mo...</td>\n",
              "      <td>FABRIC CODE: A4-5740-W-OD-15 83% COTTON 15% PO...</td>\n",
              "      <td>CASIMIRES NABILA SAC</td>\n",
              "      <td>ARTISTIC FABRIC MILLS (PRIVATE) LIMITED</td>\n",
              "      <td>4224.000</td>\n",
              "      <td>Kgs</td>\n",
              "      <td>KG</td>\n",
              "      <td>4224.000</td>\n",
              "      <td>6.23</td>\n",
              "      <td>INTI</td>\n",
              "      <td>4666465.96</td>\n",
              "      <td>26297.36</td>\n",
              "      <td>Karachi</td>\n",
              "      <td>Peru</td>\n",
              "    </tr>\n",
              "    <tr>\n",
              "      <th>4</th>\n",
              "      <td>NaN</td>\n",
              "      <td>NaN</td>\n",
              "      <td>2022-01-01</td>\n",
              "      <td>52094200.0</td>\n",
              "      <td>Woven fabrics of cotton, containing 85 % or mo...</td>\n",
              "      <td>FABRIC CODE: A4-050235-C-AS-41-B 88% COTTON 9%...</td>\n",
              "      <td>CASIMIRES NABILA SAC</td>\n",
              "      <td>ARTISTIC FABRIC MILLS (PRIVATE) LIMITED</td>\n",
              "      <td>5965.500</td>\n",
              "      <td>Kgs</td>\n",
              "      <td>KG</td>\n",
              "      <td>5965.500</td>\n",
              "      <td>4.56</td>\n",
              "      <td>INTI</td>\n",
              "      <td>4829973.72</td>\n",
              "      <td>27218.79</td>\n",
              "      <td>Karachi</td>\n",
              "      <td>Peru</td>\n",
              "    </tr>\n",
              "    <tr>\n",
              "      <th>...</th>\n",
              "      <td>...</td>\n",
              "      <td>...</td>\n",
              "      <td>...</td>\n",
              "      <td>...</td>\n",
              "      <td>...</td>\n",
              "      <td>...</td>\n",
              "      <td>...</td>\n",
              "      <td>...</td>\n",
              "      <td>...</td>\n",
              "      <td>...</td>\n",
              "      <td>...</td>\n",
              "      <td>...</td>\n",
              "      <td>...</td>\n",
              "      <td>...</td>\n",
              "      <td>...</td>\n",
              "      <td>...</td>\n",
              "      <td>...</td>\n",
              "      <td>...</td>\n",
              "    </tr>\n",
              "    <tr>\n",
              "      <th>870</th>\n",
              "      <td>NaN</td>\n",
              "      <td>NaN</td>\n",
              "      <td>2022-02-28</td>\n",
              "      <td>52094200.0</td>\n",
              "      <td>Woven fabrics of cotton, containing 85 % or mo...</td>\n",
              "      <td>98%COTTON 2%ELASTANE DENIM FABRIC DYED. QUALIT...</td>\n",
              "      <td>CHANGZHOU ABILITY GARMENTS CO LTD</td>\n",
              "      <td>AZGARD NINE LIMITED</td>\n",
              "      <td>20701.476</td>\n",
              "      <td>Kgs</td>\n",
              "      <td>KG</td>\n",
              "      <td>20701.476</td>\n",
              "      <td>6.93</td>\n",
              "      <td>RENMINBI YU</td>\n",
              "      <td>25358822.00</td>\n",
              "      <td>143432.25</td>\n",
              "      <td>Karachi</td>\n",
              "      <td>China</td>\n",
              "    </tr>\n",
              "    <tr>\n",
              "      <th>871</th>\n",
              "      <td>NaN</td>\n",
              "      <td>NaN</td>\n",
              "      <td>2022-02-28</td>\n",
              "      <td>52094200.0</td>\n",
              "      <td>Woven fabrics of cotton, containing 85 % or mo...</td>\n",
              "      <td>DENIM FABRIC - (98.5% COTTON 1.5% LYCRA) (EXPO...</td>\n",
              "      <td>DIYENEM KUMAS GLOBAL SANAYI</td>\n",
              "      <td>SAPPHIRE FIBRES LIMITED</td>\n",
              "      <td>25850.720</td>\n",
              "      <td>Kgs</td>\n",
              "      <td>KG</td>\n",
              "      <td>25850.720</td>\n",
              "      <td>6.02</td>\n",
              "      <td>EGYPTIAN POUND</td>\n",
              "      <td>27495570.29</td>\n",
              "      <td>155517.93</td>\n",
              "      <td>Karachi</td>\n",
              "      <td>Egypt</td>\n",
              "    </tr>\n",
              "    <tr>\n",
              "      <th>872</th>\n",
              "      <td>NaN</td>\n",
              "      <td>NaN</td>\n",
              "      <td>2022-02-28</td>\n",
              "      <td>52094200.0</td>\n",
              "      <td>Woven fabrics of cotton, containing 85 % or mo...</td>\n",
              "      <td>DENIM FABRIC-92% COTTON 6% EME 2% ELASTANE (EX...</td>\n",
              "      <td>REALKOM TEKSTIL</td>\n",
              "      <td>DIAMOND FABRICS LIMITED</td>\n",
              "      <td>10922.000</td>\n",
              "      <td>Kgs</td>\n",
              "      <td>KG</td>\n",
              "      <td>10922.000</td>\n",
              "      <td>7.05</td>\n",
              "      <td>LIRA</td>\n",
              "      <td>13615934.89</td>\n",
              "      <td>77013.21</td>\n",
              "      <td>Karachi</td>\n",
              "      <td>Turkey</td>\n",
              "    </tr>\n",
              "    <tr>\n",
              "      <th>873</th>\n",
              "      <td>NaN</td>\n",
              "      <td>NaN</td>\n",
              "      <td>2022-02-28</td>\n",
              "      <td>52094200.0</td>\n",
              "      <td>Woven fabrics of cotton, containing 85 % or mo...</td>\n",
              "      <td>80% COTTON , 20% RECYECL COTTON DENIM FABRIC D...</td>\n",
              "      <td>CMC TEKSTIL</td>\n",
              "      <td>AZGARD NINE LIMITED</td>\n",
              "      <td>25566.294</td>\n",
              "      <td>Kgs</td>\n",
              "      <td>KG</td>\n",
              "      <td>25566.294</td>\n",
              "      <td>4.61</td>\n",
              "      <td>LIRA</td>\n",
              "      <td>20855837.11</td>\n",
              "      <td>117962.88</td>\n",
              "      <td>Karachi</td>\n",
              "      <td>Turkey</td>\n",
              "    </tr>\n",
              "    <tr>\n",
              "      <th>874</th>\n",
              "      <td>NaN</td>\n",
              "      <td>NaN</td>\n",
              "      <td>2022-02-28</td>\n",
              "      <td>52114200.0</td>\n",
              "      <td>Woven fabrics of cotton, containing less than ...</td>\n",
              "      <td>DENIM FABRIC - (82% COTTON 16% POLY 2% LYCRA) ...</td>\n",
              "      <td>REALTEKS TEKSTILE</td>\n",
              "      <td>SAPPHIRE FIBRES LIMITED</td>\n",
              "      <td>13700.900</td>\n",
              "      <td>Kgs</td>\n",
              "      <td>KG</td>\n",
              "      <td>13700.900</td>\n",
              "      <td>7.12</td>\n",
              "      <td>LIRA</td>\n",
              "      <td>17235527.23</td>\n",
              "      <td>97486.01</td>\n",
              "      <td>Karachi</td>\n",
              "      <td>Turkey</td>\n",
              "    </tr>\n",
              "  </tbody>\n",
              "</table>\n",
              "<p>875 rows × 18 columns</p>\n",
              "</div>\n",
              "      <button class=\"colab-df-convert\" onclick=\"convertToInteractive('df-edf81b5d-2bea-4ee3-aec0-817d5093044d')\"\n",
              "              title=\"Convert this dataframe to an interactive table.\"\n",
              "              style=\"display:none;\">\n",
              "        \n",
              "  <svg xmlns=\"http://www.w3.org/2000/svg\" height=\"24px\"viewBox=\"0 0 24 24\"\n",
              "       width=\"24px\">\n",
              "    <path d=\"M0 0h24v24H0V0z\" fill=\"none\"/>\n",
              "    <path d=\"M18.56 5.44l.94 2.06.94-2.06 2.06-.94-2.06-.94-.94-2.06-.94 2.06-2.06.94zm-11 1L8.5 8.5l.94-2.06 2.06-.94-2.06-.94L8.5 2.5l-.94 2.06-2.06.94zm10 10l.94 2.06.94-2.06 2.06-.94-2.06-.94-.94-2.06-.94 2.06-2.06.94z\"/><path d=\"M17.41 7.96l-1.37-1.37c-.4-.4-.92-.59-1.43-.59-.52 0-1.04.2-1.43.59L10.3 9.45l-7.72 7.72c-.78.78-.78 2.05 0 2.83L4 21.41c.39.39.9.59 1.41.59.51 0 1.02-.2 1.41-.59l7.78-7.78 2.81-2.81c.8-.78.8-2.07 0-2.86zM5.41 20L4 18.59l7.72-7.72 1.47 1.35L5.41 20z\"/>\n",
              "  </svg>\n",
              "      </button>\n",
              "      \n",
              "  <style>\n",
              "    .colab-df-container {\n",
              "      display:flex;\n",
              "      flex-wrap:wrap;\n",
              "      gap: 12px;\n",
              "    }\n",
              "\n",
              "    .colab-df-convert {\n",
              "      background-color: #E8F0FE;\n",
              "      border: none;\n",
              "      border-radius: 50%;\n",
              "      cursor: pointer;\n",
              "      display: none;\n",
              "      fill: #1967D2;\n",
              "      height: 32px;\n",
              "      padding: 0 0 0 0;\n",
              "      width: 32px;\n",
              "    }\n",
              "\n",
              "    .colab-df-convert:hover {\n",
              "      background-color: #E2EBFA;\n",
              "      box-shadow: 0px 1px 2px rgba(60, 64, 67, 0.3), 0px 1px 3px 1px rgba(60, 64, 67, 0.15);\n",
              "      fill: #174EA6;\n",
              "    }\n",
              "\n",
              "    [theme=dark] .colab-df-convert {\n",
              "      background-color: #3B4455;\n",
              "      fill: #D2E3FC;\n",
              "    }\n",
              "\n",
              "    [theme=dark] .colab-df-convert:hover {\n",
              "      background-color: #434B5C;\n",
              "      box-shadow: 0px 1px 3px 1px rgba(0, 0, 0, 0.15);\n",
              "      filter: drop-shadow(0px 1px 2px rgba(0, 0, 0, 0.3));\n",
              "      fill: #FFFFFF;\n",
              "    }\n",
              "  </style>\n",
              "\n",
              "      <script>\n",
              "        const buttonEl =\n",
              "          document.querySelector('#df-edf81b5d-2bea-4ee3-aec0-817d5093044d button.colab-df-convert');\n",
              "        buttonEl.style.display =\n",
              "          google.colab.kernel.accessAllowed ? 'block' : 'none';\n",
              "\n",
              "        async function convertToInteractive(key) {\n",
              "          const element = document.querySelector('#df-edf81b5d-2bea-4ee3-aec0-817d5093044d');\n",
              "          const dataTable =\n",
              "            await google.colab.kernel.invokeFunction('convertToInteractive',\n",
              "                                                     [key], {});\n",
              "          if (!dataTable) return;\n",
              "\n",
              "          const docLinkHtml = 'Like what you see? Visit the ' +\n",
              "            '<a target=\"_blank\" href=https://colab.research.google.com/notebooks/data_table.ipynb>data table notebook</a>'\n",
              "            + ' to learn more about interactive tables.';\n",
              "          element.innerHTML = '';\n",
              "          dataTable['output_type'] = 'display_data';\n",
              "          await google.colab.output.renderOutput(dataTable, element);\n",
              "          const docLink = document.createElement('div');\n",
              "          docLink.innerHTML = docLinkHtml;\n",
              "          element.appendChild(docLink);\n",
              "        }\n",
              "      </script>\n",
              "    </div>\n",
              "  </div>\n",
              "  "
            ]
          },
          "metadata": {},
          "execution_count": 153
        }
      ]
    },
    {
      "cell_type": "code",
      "source": [
        "df.dropna(how='all',axis=0,inplace=True)"
      ],
      "metadata": {
        "id": "v_-WdMeBErbN"
      },
      "execution_count": null,
      "outputs": []
    },
    {
      "cell_type": "code",
      "source": [
        "df.dropna(how='all',axis=1,inplace=True)"
      ],
      "metadata": {
        "id": "H8ZYWaTsF42I"
      },
      "execution_count": null,
      "outputs": []
    },
    {
      "cell_type": "code",
      "source": [
        "df.reset_index(drop=True,inplace=True)"
      ],
      "metadata": {
        "id": "dz1wUGFqE_CI"
      },
      "execution_count": null,
      "outputs": []
    },
    {
      "cell_type": "code",
      "source": [
        "for index,x in enumerate(df['Product Description']):\n",
        "  if re.findall(r'\\d{2,}mt',df['Product Description'][index].casefold()):\n",
        "    df['Product Description'][index] = re.sub(r'(\\d{2,})(M)',r' \\1 \\2',df['Product Description'][index])"
      ],
      "metadata": {
        "id": "ehLuAAYIcwnb"
      },
      "execution_count": null,
      "outputs": []
    },
    {
      "cell_type": "code",
      "source": [
        "for index,x in enumerate(df['Product Description']):\n",
        "  if re.findall(r'\\d{2,}y',df['Product Description'][index].casefold()):\n",
        "    df['Product Description'][index] = re.sub(r'(\\d{2,})(M)',r' \\1 \\2',df['Product Description'][index])"
      ],
      "metadata": {
        "id": "2w0eh-RLi8py",
        "colab": {
          "base_uri": "https://localhost:8080/"
        },
        "outputId": "8d722fef-1965-462e-fa95-2be185e989e7"
      },
      "execution_count": null,
      "outputs": [
        {
          "output_type": "stream",
          "name": "stderr",
          "text": [
            "<ipython-input-161-96c2538899c5>:3: SettingWithCopyWarning: \n",
            "A value is trying to be set on a copy of a slice from a DataFrame\n",
            "\n",
            "See the caveats in the documentation: https://pandas.pydata.org/pandas-docs/stable/user_guide/indexing.html#returning-a-view-versus-a-copy\n",
            "  df['Product Description'][index] = re.sub(r'(\\d{2,})(M)',r' \\1 \\2',df['Product Description'][index])\n"
          ]
        }
      ]
    },
    {
      "cell_type": "code",
      "source": [
        "for index,x in enumerate(df['Product Description']):\n",
        "  if re.findall(r'\\d{2,}MT',df['Product Description'][index]):\n",
        "    print(index)\n",
        "  "
      ],
      "metadata": {
        "id": "Mu0mOAaXXtXv"
      },
      "execution_count": null,
      "outputs": []
    },
    {
      "cell_type": "markdown",
      "source": [
        "**Phase 1 Data cleaning**\n",
        "\n",
        "Extracting and cleaning of Data with definite values"
      ],
      "metadata": {
        "id": "mEwcxZZVNmte"
      }
    },
    {
      "cell_type": "code",
      "source": [
        "# length in metres\n",
        "df['Length(m)'] = np.nan"
      ],
      "metadata": {
        "id": "g-DpgBtXWZ9s"
      },
      "execution_count": null,
      "outputs": []
    },
    {
      "cell_type": "code",
      "source": [
        "# length in yards\n",
        "df['Length(Yards)'] = np.nan"
      ],
      "metadata": {
        "id": "bwJ7vfHI60nu"
      },
      "execution_count": null,
      "outputs": []
    },
    {
      "cell_type": "code",
      "source": [
        "def update_function(dict_values,loc):\n",
        "  for i in dict_values.keys():\n",
        "    df.iloc[i,df.columns.get_loc(f'{loc}')] = dict_values[i]"
      ],
      "metadata": {
        "id": "CQ3pCf7NzcRN"
      },
      "execution_count": null,
      "outputs": []
    },
    {
      "cell_type": "code",
      "source": [
        "d_1={}\n",
        "b = ['Yard','YD']\n",
        "dirty_d_2={}\n",
        "count = 0\n",
        "for x,v in df.iterrows():\n",
        "  for index,i in enumerate(df['Product Description'][x].split()):\n",
        "    for c in b:\n",
        "      if c.casefold() in i.casefold():\n",
        "            #print(f'Term:{i}',f'Row:{x}',f'Index of the word in the list:{index}')\n",
        "            if df['Product Description'][x].split()[index -1].replace('.','').replace(',','').isdigit() and df['Product Description'][x].split()[index -1][0] != '0':\n",
        "              if eval(df['Product Description'][x].split()[index -1].replace(',','')) > 100:\n",
        "                num_val = eval(df['Product Description'][x].split()[index -1].replace(',',''))\n",
        "                d_1[x] = num_val\n",
        "                count += 1\n",
        "            elif df['Product Description'][x].split()[index - 1][0] == '(':\n",
        "              dirty_d_2[x] = df['Product Description'][x].split()[index - 1]\n",
        "len(dirty_d_2.keys())\n",
        "len(d_1)"
      ],
      "metadata": {
        "id": "-lOb4xzP_otF"
      },
      "execution_count": null,
      "outputs": []
    },
    {
      "cell_type": "markdown",
      "source": [
        "Idea is to capture numerical value just behind MT \n"
      ],
      "metadata": {
        "id": "WVquAj3mMYH0"
      }
    },
    {
      "cell_type": "markdown",
      "source": [
        "1303,903,873,1328,403,163,128,306,58,1243"
      ],
      "metadata": {
        "id": "m8TPuZhONbyO"
      }
    },
    {
      "cell_type": "code",
      "source": [
        "d = {}\n",
        "a = \"MT\"\n",
        "dirty_d_1 ={}\n",
        "for x in range(len(df['Product Description'])):\n",
        "  for index,i in enumerate(df['Product Description'][x].split()):\n",
        "      if a.casefold() in i.casefold():\n",
        "        if df['Product Description'][x].split()[index -1].replace(',','').replace('.','').isdigit():\n",
        "          if df['Product Description'][x].split()[index - 1][0] != '0':\n",
        "            print(x,eval(df['Product Description'][x].split()[index -1].replace(',','').replace('.','')))"
      ],
      "metadata": {
        "id": "2L2sV9rFRYzH"
      },
      "execution_count": null,
      "outputs": []
    },
    {
      "cell_type": "code",
      "source": [
        "for index,i in enumerate(df['Product Description']):\n",
        "  if re.findall(r'\\d{2,}\\sMT',df['Product Description'][index]):\n",
        "    print(index,(re.findall(r'\\d{2,}\\sMT',df['Product Description'][index]))[0])"
      ],
      "metadata": {
        "id": "oBqlSsdwQMYK"
      },
      "execution_count": null,
      "outputs": []
    },
    {
      "cell_type": "code",
      "source": [
        "df['Product Description'][577]"
      ],
      "metadata": {
        "colab": {
          "base_uri": "https://localhost:8080/",
          "height": 35
        },
        "id": "JVDSwMFZMeMn",
        "outputId": "66ba582c-13f1-4afe-b857-28c38d6438d2"
      },
      "execution_count": null,
      "outputs": [
        {
          "output_type": "execute_result",
          "data": {
            "text/plain": [
              "'20 299 MTRS 100% COTTON DENIM FABRIC'"
            ],
            "application/vnd.google.colaboratory.intrinsic+json": {
              "type": "string"
            }
          },
          "metadata": {},
          "execution_count": 136
        }
      ]
    },
    {
      "cell_type": "code",
      "source": [
        "d = {}\n",
        "a = \"MT\"\n",
        "dirty_d_1 ={}\n",
        "for x in range(len(df['Product Description'])):\n",
        "  for index,i in enumerate(df['Product Description'][x].split()):\n",
        "      if a.casefold() in i.casefold():\n",
        "        if df['Product Description'][x].split()[index -1].replace(',','').isdigit():\n",
        "          if eval(df['Product Description'][x].split()[index -1][0].replace(',','')) != 0 and df['Product Description'][x].split()[index -1].replace('.','')[0] != '0' and eval(df['Product Description'][x].split()[index -1].replace('.','').replace(',','')) > 100:\n",
        "            num_val = eval(df['Product Description'][x].split()[index -1].replace(',',''))\n",
        "            d[x] = num_val              \n",
        "        elif df['Product Description'][x].split()[index -1][0] == '(':\n",
        "          dirty_d_1[x] = df['Product Description'][x].split()[index -1]\n",
        "len(d.keys())\n"
      ],
      "metadata": {
        "id": "hbBhRoDV7ysO",
        "colab": {
          "base_uri": "https://localhost:8080/"
        },
        "outputId": "e8be2337-26a2-47bd-e824-905d42ef4f25"
      },
      "execution_count": null,
      "outputs": [
        {
          "output_type": "execute_result",
          "data": {
            "text/plain": [
              "217"
            ]
          },
          "metadata": {},
          "execution_count": 149
        }
      ]
    },
    {
      "cell_type": "code",
      "source": [
        "update_function(d,'Length(m)')"
      ],
      "metadata": {
        "id": "kzBjJ6PzYZhT"
      },
      "execution_count": null,
      "outputs": []
    },
    {
      "cell_type": "code",
      "source": [
        "update_function(d_1,'Length(Yards)')"
      ],
      "metadata": {
        "id": "6QZGcBKSEye1"
      },
      "execution_count": null,
      "outputs": []
    },
    {
      "cell_type": "markdown",
      "source": [
        "**Phase 2 Data Cleaning**\n",
        "\n",
        "Dirty values collected in the Phase 1 cleaning will be cleaned and will be extracted.\n",
        "\n",
        "There are certain pattern in the Data errors, here we will try to remove them.\n",
        "\n",
        "\n"
      ],
      "metadata": {
        "id": "mgOBcyX6T3kf"
      }
    },
    {
      "cell_type": "markdown",
      "source": [
        "Major issues in the Data:\n",
        "1. Brackets put out without space\n",
        "2. Units and values connected without any spacing  \n"
      ],
      "metadata": {
        "id": "cWbyEEaTVSvB"
      }
    },
    {
      "cell_type": "code",
      "source": [
        "dirty_d_1"
      ],
      "metadata": {
        "id": "QE6QcEnDZ-D_"
      },
      "execution_count": null,
      "outputs": []
    },
    {
      "cell_type": "code",
      "source": [
        "dict_final_d = {}\n",
        "count = 0\n",
        "emptylist = []\n",
        "for Key,val in dirty_d_1.items():\n",
        "  for x in re.findall(r'\\d{2,}.',val):\n",
        "    if x.replace('.','').isdigit():\n",
        "      dict_final_d[Key] = eval(x)\n",
        "        # if eval(x) > 10:\n",
        "dict_final_d              #   dict_final_d[Key] = eval(x)"
      ],
      "metadata": {
        "id": "tKZkibRXnsMB"
      },
      "execution_count": null,
      "outputs": []
    },
    {
      "cell_type": "code",
      "source": [
        "dict_d_Y = {}\n",
        "dict_final_d_1 = {}\n",
        "emptylist2 = []\n",
        "for Key,val in dirty_d_2.items():\n",
        "    for x in re.findall(r'\\d{2,}.',val):\n",
        "      if x.replace('.','').replace('.','').isdigit():\n",
        "        dict_final_d_1[Key] = eval(x)\n",
        "len(dict_final_d_1)"
      ],
      "metadata": {
        "colab": {
          "base_uri": "https://localhost:8080/"
        },
        "id": "Ps9aB7kOeyKb",
        "outputId": "0f9a0168-6ef3-47c6-d347-763cc07a1b25"
      },
      "execution_count": null,
      "outputs": [
        {
          "output_type": "execute_result",
          "data": {
            "text/plain": [
              "47"
            ]
          },
          "metadata": {},
          "execution_count": 32
        }
      ]
    },
    {
      "cell_type": "code",
      "source": [
        "dict_final_d_1"
      ],
      "metadata": {
        "id": "1HEqFoFlfTEH"
      },
      "execution_count": null,
      "outputs": []
    },
    {
      "cell_type": "code",
      "source": [
        "dirty_d_2"
      ],
      "metadata": {
        "id": "N78l3bW1fKQH"
      },
      "execution_count": null,
      "outputs": []
    },
    {
      "cell_type": "code",
      "source": [
        "dict_d_Y = {}\n",
        "dict_final_d_1 = {}\n",
        "emptylist2 = []\n",
        "for Key,val in dirty_d_2.items():\n",
        "    if val[0] == \"(\":\n",
        "      for x in (re.findall(r'\\d{2,}.',val)):\n",
        "          dict_final_d_1[Key] = int(float(x))\n",
        "len(dict_final_d_1)"
      ],
      "metadata": {
        "colab": {
          "base_uri": "https://localhost:8080/"
        },
        "id": "iN47bX7Lz9mD",
        "outputId": "42c817b6-1e38-4036-a096-f3c43ef4d4d8"
      },
      "execution_count": null,
      "outputs": [
        {
          "output_type": "execute_result",
          "data": {
            "text/plain": [
              "47"
            ]
          },
          "metadata": {},
          "execution_count": 35
        }
      ]
    },
    {
      "cell_type": "code",
      "source": [
        "update_function(dict_final_d,'Length(m)')"
      ],
      "metadata": {
        "id": "IQIry9DU0HUI"
      },
      "execution_count": null,
      "outputs": []
    },
    {
      "cell_type": "code",
      "source": [
        "update_function(dict_final_d_1,'Length(Yards)')"
      ],
      "metadata": {
        "id": "qIk_wWsl2DbC"
      },
      "execution_count": null,
      "outputs": []
    },
    {
      "cell_type": "markdown",
      "source": [
        "**Phase 3 - Data Cleaning**"
      ],
      "metadata": {
        "id": "ZEvMUC5IdZg2"
      }
    },
    {
      "cell_type": "code",
      "source": [
        "l = 'MT'\n",
        "Qt_dirty_d_1 ={}\n",
        "for x in range(len(df['Product Description'])):\n",
        "  for index,i in enumerate(df['Product Description'][x].split()):\n",
        "      if l.casefold() in i.casefold():\n",
        "        if 'qty' in df['Product Description'][x].split()[index - 1 ][:3].casefold():\n",
        "            Qt_dirty_d_1[x] = df['Product Description'][x].split()[index -1]"
      ],
      "metadata": {
        "id": "FhHQQ6jabuem"
      },
      "execution_count": null,
      "outputs": []
    },
    {
      "cell_type": "code",
      "source": [
        "Qt_dirty_d_1"
      ],
      "metadata": {
        "id": "7Hr9y27U7PAA"
      },
      "execution_count": null,
      "outputs": []
    },
    {
      "cell_type": "code",
      "source": [
        "emptydict = {}\n",
        "lit = []\n",
        "LP = []\n",
        "for Key,val in Qt_dirty_d_1.items():\n",
        "  for x in (re.findall(r'\\d{2,}$',val)):\n",
        "    if eval(x) > 10:\n",
        "      emptydict[Key] = eval(x)\n"
      ],
      "metadata": {
        "id": "L0lNNS_akiDl"
      },
      "execution_count": null,
      "outputs": []
    },
    {
      "cell_type": "code",
      "source": [
        "update_function(emptydict,'Length(m)')"
      ],
      "metadata": {
        "id": "a9WmZmhg8Jo9"
      },
      "execution_count": null,
      "outputs": []
    },
    {
      "cell_type": "code",
      "source": [
        "d_1={}\n",
        "b = [\"YARDS\",\"YD\",\"Yard\"]\n",
        "Qt_dirty_d_2={}\n",
        "count = 0\n",
        "for x,v in df.iterrows():\n",
        "  for index,i in enumerate(df['Product Description'][x].split()):\n",
        "    for c in b:\n",
        "      if c.casefold() in i.casefold():\n",
        "        if 'qty' in df['Product Description'][x].split()[index - 1][:3].casefold():\n",
        "            Qt_dirty_d_2[x] = df['Product Description'][x].split()[index -1]"
      ],
      "metadata": {
        "id": "AKnz-1vBh6-m"
      },
      "execution_count": null,
      "outputs": []
    },
    {
      "cell_type": "code",
      "source": [
        "emptydict_1 = {}\n",
        "lit_1 = []\n",
        "LP_1 = []\n",
        "for Key,val in Qt_dirty_d_2.items():\n",
        "  for x in (re.findall(r'\\d{2,}$',val)):\n",
        "    if eval(x) > 10:\n",
        "      emptydict_1[Key] = eval(x)"
      ],
      "metadata": {
        "id": "f-96uZFhhjzR"
      },
      "execution_count": null,
      "outputs": []
    },
    {
      "cell_type": "code",
      "source": [
        "sp_dict_YD = {}\n",
        "for x in range(len(df['Product Description'])):\n",
        "#   print(re.findall('\\bQTY[0-9]',df['Product Description'][x]))\n",
        "  a = re.findall(r'\\d{1,2}\\s\\d{3}\\s[Y]',df['Product Description'][x])\n",
        "  if a:\n",
        "    for m in a:\n",
        "      sp_dict_YD[x] = eval(m.casefold().replace(' ','').replace('y',''))"
      ],
      "metadata": {
        "id": "1j1JvZF05WXi"
      },
      "execution_count": null,
      "outputs": []
    },
    {
      "cell_type": "code",
      "source": [
        "update_function(sp_dict_YD,'Length(Yards)')"
      ],
      "metadata": {
        "id": "tGtxUhTJJFGo"
      },
      "execution_count": null,
      "outputs": []
    },
    {
      "cell_type": "code",
      "source": [
        "sp_dict_M = {}\n",
        "for x in range(len(df['Product Description'])):\n",
        "#   print(re.findall('\\bQTY[0-9]',df['Product Description'][x]))\n",
        "  a = re.findall(r'\\d{1,2}\\s\\d{3}\\s[M]',df['Product Description'][x])\n",
        "  if a:\n",
        "    for m in a:\n",
        "      sp_dict_M[x]=eval(m.casefold().replace(' ','').replace('m',''))\n",
        "sp_dict_M"
      ],
      "metadata": {
        "id": "JV9KgkixHVBn",
        "colab": {
          "base_uri": "https://localhost:8080/"
        },
        "outputId": "85186f7e-8d9d-46c8-8cc0-3393284ca816"
      },
      "execution_count": null,
      "outputs": [
        {
          "output_type": "execute_result",
          "data": {
            "text/plain": [
              "{160: 16278, 394: 22766, 413: 1000, 571: 35872, 610: 17001, 1076: 2199}"
            ]
          },
          "metadata": {},
          "execution_count": 49
        }
      ]
    },
    {
      "cell_type": "code",
      "source": [
        "update_function(sp_dict_M,'Length(m)')"
      ],
      "metadata": {
        "id": "l6RI-itbJOQt"
      },
      "execution_count": null,
      "outputs": []
    },
    {
      "cell_type": "code",
      "source": [
        "update_function(emptydict_1,'Length(Yards)')"
      ],
      "metadata": {
        "id": "yHDQuicX8b_6"
      },
      "execution_count": null,
      "outputs": []
    },
    {
      "cell_type": "code",
      "source": [
        "df = df.applymap(lambda x: x.encode('unicode_escape').\n",
        "                 decode('utf-8') if isinstance(x, str) else x)"
      ],
      "metadata": {
        "id": "y4YN4M2m1gFp"
      },
      "execution_count": null,
      "outputs": []
    },
    {
      "cell_type": "code",
      "source": [
        "df.to_excel(file_name + '.xlsx')\n"
      ],
      "metadata": {
        "id": "JQodJuCMLdL1"
      },
      "execution_count": null,
      "outputs": []
    }
  ]
}